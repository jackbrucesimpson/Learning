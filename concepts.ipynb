{
 "cells": [
  {
   "cell_type": "markdown",
   "metadata": {},
   "source": [
    "# Concepts\n",
    "\n",
    "## Supervised\n",
    "This algorithm consist of a target / outcome variable (or dependent variable) which is to be predicted from a given set of predictors (independent variables).\n",
    "- Regression\n",
    "- Decision Trees/Random Forest\n",
    "- KNN\n",
    "- Logistic Regression\n",
    "- Naive Bayes\n",
    "- Gradient Boost & Adaboost\n",
    "\n",
    "## Unsupervised\n",
    " In this algorithm, we do not have any target or outcome variable to predict / estimate.  It is used for clustering population in different groups, which is widely used for segmenting customers in different groups for specific intervention.\n",
    "- Apriori algorithm\n",
    "- K Means\n",
    "- PCA/LDA\n",
    "\n",
    "## Reinforcement\n",
    "Using this algorithm, the machine is trained to make specific decisions. It works this way: the machine is exposed to an environment where it trains itself continually using trial and error.\n",
    "- Markov Decision Process\n",
    "\n",
    "## Basic Visualization\n",
    "- Histogram\n",
    "- Bar / Line Chart\n",
    "- Box plot\n",
    "- Scatter plot\n",
    "\n",
    "## Advanced Visualization\n",
    "- Heat Map\n",
    "- Mosaic Map\n",
    "- Map Visualization\n",
    "- 3D Graphs\n",
    "- Correlogram"
   ]
  },
  {
   "cell_type": "markdown",
   "metadata": {},
   "source": [
    "# Workflow\n",
    "\n",
    "![workflow](resources/ml_steps.png)"
   ]
  },
  {
   "cell_type": "markdown",
   "metadata": {},
   "source": [
    "# Computer Science Concepts\n",
    "\n",
    "## Structures\n",
    "Arrays, linked lists, hash tables/maps and binary trees\n",
    "\n",
    "## Search\n",
    "Breadth-first search (BFS) and depth-first search (DFS), and when to use one vs. the other\n",
    "\n",
    "## Sorting\n",
    "Merge Sort and Quicksort\n",
    "\n",
    "# Algorithms\n",
    "Do you know which algorithm is most efficient for solving a given problem? When this question comes up, keep in mind that Interviewers want to know how you approach problems, how many solutions you can come up with and how you chose the “best” option. Recursive algorithms, iterative algorithms, and greedy algorithms are among the big 3 you should know with an emphasis on recursion vs iteration."
   ]
  },
  {
   "cell_type": "markdown",
   "metadata": {},
   "source": []
  },
  {
   "cell_type": "code",
   "execution_count": null,
   "metadata": {
    "collapsed": true
   },
   "outputs": [],
   "source": []
  }
 ],
 "metadata": {
  "kernelspec": {
   "display_name": "Python 3",
   "language": "python",
   "name": "python3"
  },
  "language_info": {
   "codemirror_mode": {
    "name": "ipython",
    "version": 3
   },
   "file_extension": ".py",
   "mimetype": "text/x-python",
   "name": "python",
   "nbconvert_exporter": "python",
   "pygments_lexer": "ipython3",
   "version": "3.5.1"
  }
 },
 "nbformat": 4,
 "nbformat_minor": 1
}
