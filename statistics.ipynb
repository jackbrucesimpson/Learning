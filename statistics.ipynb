{
 "cells": [
  {
   "cell_type": "markdown",
   "metadata": {},
   "source": [
    "# Statistics Notebook"
   ]
  },
  {
   "cell_type": "code",
   "execution_count": null,
   "metadata": {
    "collapsed": true
   },
   "outputs": [],
   "source": [
    "# Dependencies\n",
    "import math"
   ]
  },
  {
   "cell_type": "markdown",
   "metadata": {},
   "source": [
    "## Distance Metrics"
   ]
  },
  {
   "cell_type": "code",
   "execution_count": null,
   "metadata": {
    "collapsed": true
   },
   "outputs": [],
   "source": [
    "def manhattan_distance(x1, y1, x2, y2):\n",
    "    distance = abs(x1-x2) + abs(y1-y2)\n",
    "    return distance\n",
    "\n",
    "def euclidian_distance(x1, y1, x2, y2):\n",
    "    x_diff = (x1-x2)\n",
    "    y_diff = (y1-y2)\n",
    "    sum_squared_diffs = math.pow(x_diff, 2) + math.pow(y_diff, 2)\n",
    "    distance = math.sqrt(sum_squared_diffs)\n",
    "    return distance"
   ]
  },
  {
   "cell_type": "markdown",
   "metadata": {},
   "source": [
    "## Pearson Correlation"
   ]
  },
  {
   "cell_type": "code",
   "execution_count": null,
   "metadata": {
    "collapsed": true
   },
   "outputs": [],
   "source": [
    "def pearson_cor(person1_ratings, person2_ratings):\n",
    "    def numerator\n",
    "\n",
    "\n",
    "\n",
    "    summed_ratings_multiplied = 0\n",
    "    sum_person1_ratings = 0\n",
    "    sum_person2_ratings = 0\n",
    "    for i, score in enumerate(person1_ratings):\n",
    "        summed_ratings_multiplied += person1_ratings[i] * person2_ratings[i]\n",
    "\n",
    "        sum_person1_ratings += person1_ratings[i]\n",
    "        sum_person2_ratings += person2_ratings[i]\n",
    "\n",
    "    summed_totals_multiplied_divided_n = sum_person1_ratings * sum_person2_ratings / len(person1_ratings)\n",
    "\n",
    "    numerator = summed_ratings_multiplied - summed_totals_multiplied_divided_n"
   ]
  },
  {
   "cell_type": "code",
   "execution_count": null,
   "metadata": {
    "collapsed": true
   },
   "outputs": [],
   "source": []
  }
 ],
 "metadata": {
  "kernelspec": {
   "display_name": "Python 3",
   "language": "python",
   "name": "python3"
  },
  "language_info": {
   "codemirror_mode": {
    "name": "ipython",
    "version": 3
   },
   "file_extension": ".py",
   "mimetype": "text/x-python",
   "name": "python",
   "nbconvert_exporter": "python",
   "pygments_lexer": "ipython3",
   "version": "3.5.1"
  }
 },
 "nbformat": 4,
 "nbformat_minor": 1
}
