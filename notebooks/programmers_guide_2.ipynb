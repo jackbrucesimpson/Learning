{
 "cells": [
  {
   "cell_type": "markdown",
   "metadata": {},
   "source": [
    "# Implicit Ratings\n",
    "Based on users behaviour rather than explicit ratings. For example, if a person clicks on links about technology but never about sports on a news site, that tells us something about their preferences. Another example would be keeping track of things people have bought - Amazon even has a 'frequently bought together' section on the site once you put something in your cart.\n",
    "\n",
    "Problems with implicit ratings:\n",
    "- People don't bother rating items\n",
    "- People lie\n",
    "- People don't update ratings\n",
    "\n",
    "One of the tricky things about implicit ratings is that if someone buys a gift, it can confuse your system. You want to try and build up a profile of the user so that your recommendations fit their preferences.\n",
    "\n",
    "## Item Based Filtering\n",
    "So far we've been doing user-based collaborative filtering, but this is difficult to scale and results in sparse datasets. Instead, it might be better to do item-based filtering. Here we identify products that are most similar to each other."
   ]
  }
 ],
 "metadata": {
  "kernelspec": {
   "display_name": "Python 3",
   "language": "python",
   "name": "python3"
  },
  "language_info": {
   "codemirror_mode": {
    "name": "ipython",
    "version": 3
   },
   "file_extension": ".py",
   "mimetype": "text/x-python",
   "name": "python",
   "nbconvert_exporter": "python",
   "pygments_lexer": "ipython3",
   "version": "3.5.2"
  }
 },
 "nbformat": 4,
 "nbformat_minor": 2
}
