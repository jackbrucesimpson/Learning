{
 "cells": [
  {
   "cell_type": "markdown",
   "metadata": {},
   "source": [
    "# MyPy Type Checker for Python\n",
    "Install: `sudo pip3 install mypy-lang`  \n",
    "Run: `python3 -m mypy test.py`"
   ]
  },
  {
   "cell_type": "code",
   "execution_count": 1,
   "metadata": {},
   "outputs": [],
   "source": [
    "from typing import Union\n",
    "\n",
    "def greeting(name: str) -> str:\n",
    "   return 'Hello, {}'.format(name)\n",
    "\n",
    "x = 1 # type: int\n",
    "y = 'k' # type str\n",
    "z = 'a' # type: Union[int, str]\n",
    "l = []  # type: List[int]\n",
    "d = {}  # type: Dict[str, int]\n",
    "s = set()  # type: Set[int]\n",
    "\n",
    "i, found = 0, False # type: (int, bool)\n",
    "\n",
    "z = 'a' # type: Union[int, str]"
   ]
  },
  {
   "cell_type": "code",
   "execution_count": null,
   "metadata": {},
   "outputs": [],
   "source": []
  }
 ],
 "metadata": {
  "kernelspec": {
   "display_name": "Python 3",
   "language": "python",
   "name": "python3"
  },
  "language_info": {
   "codemirror_mode": {
    "name": "ipython",
    "version": 3
   },
   "file_extension": ".py",
   "mimetype": "text/x-python",
   "name": "python",
   "nbconvert_exporter": "python",
   "pygments_lexer": "ipython3",
   "version": "3.5.2"
  }
 },
 "nbformat": 4,
 "nbformat_minor": 2
}
