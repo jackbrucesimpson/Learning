{
 "cells": [
  {
   "cell_type": "markdown",
   "metadata": {},
   "source": [
    "# DataCamp Biomedical Image Analysis in Python"
   ]
  },
  {
   "cell_type": "code",
   "execution_count": null,
   "metadata": {},
   "outputs": [],
   "source": [
    "# Import ImageIO\n",
    "import imageio\n",
    "\n",
    "# Load \"chest-220.dcm\"\n",
    "im = imageio.imread('chest-220.dcm')\n",
    "\n",
    "# Print image attributes\n",
    "print('Image type:', type(im))\n",
    "print('Shape of image array:', im.shape)"
   ]
  },
  {
   "cell_type": "code",
   "execution_count": null,
   "metadata": {},
   "outputs": [],
   "source": [
    "# Import ImageIO and load image\n",
    "import imageio\n",
    "im = imageio.imread('chest-220.dcm')\n",
    "\n",
    "# Print the available metadata fields\n",
    "print(im.meta)\n",
    "print(im.meta['sampling'])"
   ]
  },
  {
   "cell_type": "code",
   "execution_count": null,
   "metadata": {},
   "outputs": [],
   "source": [
    "# Import ImageIO and PyPlot \n",
    "import imageio\n",
    "import matplotlib.pyplot as plt\n",
    "\n",
    "# Read in \"chest-220.dcm\"\n",
    "im = imageio.imread('chest-220.dcm')\n",
    "\n",
    "# Draw the image in grayscale\n",
    "plt.imshow(im, cmap='gray')\n",
    "\n",
    "# Render the image\n",
    "plt.show()"
   ]
  },
  {
   "cell_type": "code",
   "execution_count": null,
   "metadata": {},
   "outputs": [],
   "source": [
    "# Draw the image with greater contrast\n",
    "plt.imshow(im, cmap='gray', vmin=-200, vmax=200)\n",
    "\n",
    "plt.axis('off')\n",
    "\n",
    "# Render the image\n",
    "plt.show()"
   ]
  },
  {
   "cell_type": "markdown",
   "metadata": {},
   "source": [
    "### Volume read\n",
    "- Can use imageio.volread to parse a folder containing slice images\n",
    "- Uses metadata to put images in correct order\n",
    "- Definitions\n",
    "    - Image shape: Number of elements along each axis\n",
    "    - Sampling rate: physical space covered by each element (mm)\n",
    "    - Field of view: pysical space covered along each axis (mm)"
   ]
  },
  {
   "cell_type": "code",
   "execution_count": null,
   "metadata": {},
   "outputs": [],
   "source": [
    "# Import ImageIO and NumPy\n",
    "import imageio\n",
    "import numpy as np\n",
    "\n",
    "# Read in each 2D image\n",
    "im1 = imageio.imread('chest-220.dcm')\n",
    "im2 = imageio.imread('chest-221.dcm')\n",
    "im3 = imageio.imread('chest-222.dcm')\n",
    "\n",
    "# Stack images into a volume\n",
    "vol = np.stack([im1,im2,im3])\n",
    "print('Volume dimensions:', vol.shape)"
   ]
  },
  {
   "cell_type": "code",
   "execution_count": null,
   "metadata": {},
   "outputs": [],
   "source": [
    "# Import ImageIO\n",
    "import imageio\n",
    "\n",
    "# Load the \"tcia-chest-ct\" directory\n",
    "vol = imageio.volread('tcia-chest-ct')\n",
    "\n",
    "# Print image attributes\n",
    "print('Available metadata:', vol.meta.keys())\n",
    "print('Shape of image array:', vol.shape)"
   ]
  },
  {
   "cell_type": "markdown",
   "metadata": {},
   "source": [
    "### Field of view\n",
    "The amount of physical space covered by an image is its field of view, which is calculated from two properties:\n",
    "\n",
    "- Array shape, the number of data elements on each axis. Can be accessed with the shape attribute.\n",
    "- Sampling resolution, the amount of physical space covered by each pixel. Sometimes available in metadata (e.g., meta['sampling'])."
   ]
  },
  {
   "cell_type": "code",
   "execution_count": null,
   "metadata": {},
   "outputs": [],
   "source": [
    "# multiply the array shape and sampling resolution along each axis to calculate the field of view\n",
    "\n",
    "# number of pixels along each axis\n",
    "n0, n1, n2 = vol.shape\n",
    "# space occupied by each pixel\n",
    "d0, d1, d2 = vol.meta['sampling']\n",
    "# each of these together to get the field of view\n",
    "n0 * d0, n1 * d1, n2 * d2"
   ]
  },
  {
   "cell_type": "code",
   "execution_count": null,
   "metadata": {},
   "outputs": [],
   "source": [
    "# Import PyPlot\n",
    "import matplotlib.pyplot as plt\n",
    "\n",
    "# Initialize figure and axes grid\n",
    "fig, axes = plt.subplots(nrows=2, ncols=1)\n",
    "\n",
    "# Draw an image on each subplot\n",
    "axes[0].imshow(im1, cmap='gray')\n",
    "axes[1].imshow(im2, cmap='gray')\n",
    "\n",
    "# Remove ticks/labels and render\n",
    "axes[0].axis('off')\n",
    "axes[1].axis('off')\n",
    "plt.show()"
   ]
  },
  {
   "cell_type": "code",
   "execution_count": null,
   "metadata": {},
   "outputs": [],
   "source": [
    "# show 4 slices at different depths next to each other\n",
    "\n",
    "# Plot the images on a subplots array \n",
    "fig, axes = plt.subplots(nrows=1, ncols=4)\n",
    "\n",
    "# Loop through subplots and draw image\n",
    "for ii in range(4):\n",
    "    im = vol[ii * 40, :, :]\n",
    "    axes[ii].imshow(im, cmap='gray')\n",
    "    axes[ii].axis('off')\n",
    "\n",
    "# Render the figure\n",
    "plt.show()"
   ]
  },
  {
   "cell_type": "markdown",
   "metadata": {},
   "source": [
    "## Plotting other views\n",
    "- Any two dimensions of an array can form an image, and slicing along different axes can provide a useful perspective. \n",
    "- However, unequal sampling rates can create distorted images.\n",
    "- Changing the aspect ratio can address this by increasing the width of one of the dimensions."
   ]
  },
  {
   "cell_type": "code",
   "execution_count": null,
   "metadata": {},
   "outputs": [],
   "source": [
    "# Select frame from \"vol\"\n",
    "im1 = vol[:, 256, :]\n",
    "im2 = vol[:, :, 256]\n",
    "\n",
    "# Compute aspect ratios\n",
    "d0, d1, d2 = vol.meta['sampling']\n",
    "asp1 = d0 / d2\n",
    "asp2 = d0 / d1\n",
    "\n",
    "# Plot the images on a subplots array \n",
    "fig, axes = plt.subplots(nrows=2, ncols=1)\n",
    "axes[0].imshow(im1, cmap='gray', aspect=asp1)\n",
    "axes[1].imshow(im2, cmap='gray', aspect=asp2)\n",
    "plt.show()"
   ]
  },
  {
   "cell_type": "code",
   "execution_count": null,
   "metadata": {},
   "outputs": [],
   "source": []
  },
  {
   "cell_type": "code",
   "execution_count": null,
   "metadata": {},
   "outputs": [],
   "source": []
  },
  {
   "cell_type": "code",
   "execution_count": null,
   "metadata": {},
   "outputs": [],
   "source": []
  },
  {
   "cell_type": "code",
   "execution_count": null,
   "metadata": {},
   "outputs": [],
   "source": []
  },
  {
   "cell_type": "code",
   "execution_count": null,
   "metadata": {},
   "outputs": [],
   "source": []
  },
  {
   "cell_type": "code",
   "execution_count": null,
   "metadata": {},
   "outputs": [],
   "source": []
  },
  {
   "cell_type": "code",
   "execution_count": null,
   "metadata": {},
   "outputs": [],
   "source": []
  }
 ],
 "metadata": {
  "kernelspec": {
   "display_name": "Python 3",
   "language": "python",
   "name": "python3"
  },
  "language_info": {
   "codemirror_mode": {
    "name": "ipython",
    "version": 3
   },
   "file_extension": ".py",
   "mimetype": "text/x-python",
   "name": "python",
   "nbconvert_exporter": "python",
   "pygments_lexer": "ipython3",
   "version": "3.7.4"
  }
 },
 "nbformat": 4,
 "nbformat_minor": 2
}
