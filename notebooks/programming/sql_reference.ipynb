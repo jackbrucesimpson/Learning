{
 "cells": [
  {
   "cell_type": "markdown",
   "metadata": {},
   "source": [
    "# SQL Query Reference\n",
    "### Select statements\n",
    "\n",
    "select SUM(percentage) from lanaguge;\n",
    "select distinct(continent) from world;\n",
    "\n",
    "select a a/b for a in world;\n",
    "\n",
    "select * \n",
    "\n",
    "show tables\n",
    "explain users\n",
    "\n",
    "min, max, avg, sum\n",
    "\n",
    "group_concat"
   ]
  },
  {
   "cell_type": "code",
   "execution_count": null,
   "metadata": {},
   "outputs": [],
   "source": [
    "select * from users;\n",
    "select email from users where user_name = 'jack';\n",
    "select email from users where user_name = 'jack' or user_name = 'tom';\n",
    "select * from users where name in ('jack', 'tom');\n",
    "select * from users where email like '%.edu%';\n",
    "select * from users order by user_name DESC;\n",
    "select * from users limit 1;"
   ]
  },
  {
   "cell_type": "markdown",
   "metadata": {},
   "source": [
    "### Aggregation and grouping"
   ]
  },
  {
   "cell_type": "code",
   "execution_count": null,
   "metadata": {},
   "outputs": [],
   "source": [
    "select count(*) from states where join_year = 1787;\n",
    "select count(*), join_year from states group by join_year;\n",
    "\n",
    "select min(population), max(population), avg(population) from states;\n",
    "select sum(population) as usa_population from states;\n",
    "\n",
    "# GROUP_CONCAT(): concatenates all values inside the group into a single string, with a given separator\n",
    "SELECT GROUP_CONCAT(name SEPARATOR ', '), join_year\n",
    "FROM states GROUP BY join_year;"
   ]
  },
  {
   "cell_type": "markdown",
   "metadata": {},
   "source": [
    "### Subqueries and Having: apply conditions to returned results (e.g. results of aggregate functions)"
   ]
  },
  {
   "cell_type": "code",
   "execution_count": null,
   "metadata": {},
   "outputs": [],
   "source": [
    "select count(*), join_year from states\n",
    "group by join_year\n",
    "having count(*) > 1;\n",
    "\n",
    "SELECT * FROM states WHERE population = (\n",
    "    SELECT MAX(population) FROM states\n",
    ");\n",
    "\n",
    "SELECT * FROM states WHERE join_year IN (\n",
    "    SELECT join_year FROM states\n",
    "    GROUP BY join_year\n",
    "    HAVING COUNT(*) > 1\n",
    ") ORDER BY join_year;"
   ]
  },
  {
   "cell_type": "markdown",
   "metadata": {},
   "source": [
    "### Union: combine results of multiple select queries\n",
    "- Can combine queries on different tables"
   ]
  },
  {
   "cell_type": "code",
   "execution_count": null,
   "metadata": {},
   "outputs": [],
   "source": [
    "(SELECT * FROM states WHERE name LIKE 'n%')\n",
    "UNION\n",
    "(SELECT * FROM states WHERE population > 10000000);\n",
    "\n",
    "# fetch all emails of all employees and managers, but only the emails of customers that have subscribed to receive emails\n",
    "(SELECT email FROM employees)\n",
    "UNION\n",
    "(SELECT email FROM managers)\n",
    "UNION\n",
    "(SELECT email FROM customers WHERE subscribed = 1);"
   ]
  },
  {
   "cell_type": "markdown",
   "metadata": {},
   "source": [
    "### Natural Join\n",
    "- tables need to have a matching column name\n",
    "- both the tables have the customer_id column\n",
    "- MySQL will join the records only when the value of this column is matching on two records"
   ]
  },
  {
   "cell_type": "code",
   "execution_count": null,
   "metadata": {},
   "outputs": [],
   "source": [
    "select * from customers natural join orders;"
   ]
  },
  {
   "cell_type": "markdown",
   "metadata": {},
   "source": [
    "### Inner Join, ON, USING\n",
    "- When a join condition is specified, an Inner Join is performed\n",
    "- ON clauses let you put join conditions in a separate clause\n",
    "- USING clause is similar to the ON clause, but it's shorter\n",
    "- If a column is the same name on both tables, we can specify it here.\n",
    "- this is much like the NATURAL JOIN, so the join column (customer_id) is not repeated twice in the results"
   ]
  },
  {
   "cell_type": "code",
   "execution_count": null,
   "metadata": {},
   "outputs": [],
   "source": [
    "select * from customers join orders where customers.customer_id = orders.customer_id;\n",
    "select * from customers join orders on (customers.customers_id = orders.customer_id) where orders.amount > 15;\n",
    "select * from customers join orders using (customer_id) where orders.amount > 15;"
   ]
  },
  {
   "cell_type": "markdown",
   "metadata": {},
   "source": [
    "### Left (Outer) Join\n",
    "- A LEFT JOIN is a type of Outer Join.\n",
    "- OUTER keyword is optional, can use LEFT JOIN by itself\n",
    "- If there is no match found from the second table, the record from the first table is still displayed\n",
    "- Missing columns will have NULL\n",
    "- Useful for finding records that do not have relationships e.g. can search for customers who have not placed any orders\n",
    "\n",
    "### Right (Outer) Join\n",
    "- A RIGHT OUTER JOIN works exactly the same, but the order of the tables are reversed"
   ]
  },
  {
   "cell_type": "code",
   "execution_count": null,
   "metadata": {},
   "outputs": [],
   "source": [
    "select * from customers LEFT OUTER JOIN orders USING (customer_id)\n",
    "select * from customers LEFT OUTER JOIN orders using (customer_id) where orders.order_id IS NULL;\n",
    "select * from customers LEFT OUTER JOIN orders using (customer_id) where orders.amount > 15 OR orders.order_id IS NULL;\n",
    "\n",
    "# the ON clause sometimes has slightly different functionality than the WHERE clause\n",
    "# In an Outer Join like this one, rows are included even if they do not match the ON clause conditions\n",
    "select * from customers LEFT OUTER JOIN orders ON (customers.customer_id = orders.customer_id) and orders.amount > 15;"
   ]
  },
  {
   "cell_type": "code",
   "execution_count": null,
   "metadata": {},
   "outputs": [],
   "source": []
  }
 ],
 "metadata": {
  "kernelspec": {
   "display_name": "Python 3",
   "language": "python",
   "name": "python3"
  },
  "language_info": {
   "codemirror_mode": {
    "name": "ipython",
    "version": 3
   },
   "file_extension": ".py",
   "mimetype": "text/x-python",
   "name": "python",
   "nbconvert_exporter": "python",
   "pygments_lexer": "ipython3",
   "version": "3.6.3"
  }
 },
 "nbformat": 4,
 "nbformat_minor": 2
}
