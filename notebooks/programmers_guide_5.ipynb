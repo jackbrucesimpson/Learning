{
 "cells": [
  {
   "cell_type": "markdown",
   "metadata": {},
   "source": [
    "# Naïve Bayes\n",
    "Probabilistic classifiers can give you a prediction and a probability - something you can't get from nearest neighbour classifiers.\n",
    "\n",
    "## Lazy vs Eager Learners\n",
    "Lazy learners save a training set and have to remember it each time to use it while eager learners will generate a model that it can use to classify new data - this tends to be faster,\n",
    "\n",
    "## Probability\n",
    "Prior probability of a hypothesis: P(h). For a coin: P(heads) = 0.5. Rolling 1 with a die: P(1) = 1/6. Probability person is woman if even number of men and women: P(Female) = 0.5.\n",
    "\n",
    "If you research a uni (say Stanford) a person is at and realise that it is 86% female, you may change the probability of a random person there being female. You can denote this as P(Female | D) - probability of hypothesis h given data D:  P(Female | attends stanford) = 0.86. The formula is:\n",
    "\n",
    "$$\n",
    "P(A|B) = \\frac{P(A \\cap B)}\n",
    "{p(B)}\n",
    "$$\n",
    "\n",
    "Terms\n",
    "- P(h) is the prior probability before evidence\n",
    "- P(D) is the posterior probability after we observe data D. Also called conditional probability."
   ]
  },
  {
   "cell_type": "markdown",
   "metadata": {},
   "source": [
    "## Laptop and Phone Probabilities\n",
    "\n",
    "| Name  |  Laptop |  Phone |\n",
    "|:-:|:-:|:-:|\n",
    "| Kate  | PC  | Android  |\n",
    "| Tom  | PC |  Android |\n",
    "| Harry  | PC |  Android |\n",
    "| Annika  | Mac  | iPhone  |\n",
    "| Naomi  | Mac  | Android  |\n",
    "| Joe  | Mac  | iPhone  |\n",
    "| Chakotay  | Mac  | iPhone  |\n",
    "| Neelix  | Mac  | Android  |\n",
    "| Kes  | PC | iPhone  |\n",
    "| B’Elanna  | Mac  | iPhone  |\n",
    "\n",
    "### Probability randomly selected person has an iPhone?\n",
    "p(iPhone) =  5 /10 = 0.5\n",
    "\n",
    "### Probability randomly selected person has an iPhone if they already have a Mac?\n",
    "$$\n",
    "P(iPhone|mac) = \\frac{P(mac \\cap iPhone)}\n",
    "{P(mac)}\n",
    "$$\n",
    "\n",
    "4 People have both a Mac and iPhone: $P(mac \\cap iPhone) = 4/10 = 0.4$  \n",
    "Probability random person has a mac: $P(mac) = 6/10 = 0.6$\n",
    "\n",
    "Probability that someone uses an iPhone if that person has a Mac:\n",
    "$$\n",
    "P(iPhone|mac) = \\frac{P(0.4)}\n",
    "{p(0.6)} = 0.667\n",
    "$$\n",
    "\n",
    "### Probability  someone owns a Mac if they also own an iPhone?\n",
    "$$\n",
    "P(mac|iPhone) = \\frac{P(iPhone \\cap mac)}\n",
    "{P(iPhone)} =  \\frac{P(4 / 10)}\n",
    "{P(5/10)} =  0.4 / 0.5 = 0.8\n",
    "$$"
   ]
  },
  {
   "cell_type": "markdown",
   "metadata": {},
   "source": [
    "## Shopping Cart Example\n",
    "Want to determine whether to show you an ad for a green tea if you're likely to purchase it.  \n",
    "P(D): probability some training data will be observed. If half the people live in the post code 88005, then the probability of someone being from that postcode P(88005) = 0.5  \n",
    "P(D|H): probability that a value holds given the hypothesis. For example, the probability that someone lives in 88005 given they've bought green tea P(88005|green tea)"
   ]
  },
  {
   "cell_type": "code",
   "execution_count": 8,
   "metadata": {},
   "outputs": [
    {
     "data": {
      "text/html": [
       "<div>\n",
       "<table border=\"1\" class=\"dataframe\">\n",
       "  <thead>\n",
       "    <tr style=\"text-align: right;\">\n",
       "      <th></th>\n",
       "      <th>Bought Green Tea</th>\n",
       "      <th>Bought Organic</th>\n",
       "      <th>Customer ID</th>\n",
       "      <th>Zipcode</th>\n",
       "    </tr>\n",
       "  </thead>\n",
       "  <tbody>\n",
       "    <tr>\n",
       "      <th>0</th>\n",
       "      <td>True</td>\n",
       "      <td>True</td>\n",
       "      <td>0</td>\n",
       "      <td>88005</td>\n",
       "    </tr>\n",
       "    <tr>\n",
       "      <th>1</th>\n",
       "      <td>False</td>\n",
       "      <td>False</td>\n",
       "      <td>1</td>\n",
       "      <td>88001</td>\n",
       "    </tr>\n",
       "    <tr>\n",
       "      <th>2</th>\n",
       "      <td>True</td>\n",
       "      <td>True</td>\n",
       "      <td>2</td>\n",
       "      <td>88001</td>\n",
       "    </tr>\n",
       "    <tr>\n",
       "      <th>3</th>\n",
       "      <td>False</td>\n",
       "      <td>False</td>\n",
       "      <td>3</td>\n",
       "      <td>88005</td>\n",
       "    </tr>\n",
       "    <tr>\n",
       "      <th>4</th>\n",
       "      <td>False</td>\n",
       "      <td>True</td>\n",
       "      <td>4</td>\n",
       "      <td>88003</td>\n",
       "    </tr>\n",
       "    <tr>\n",
       "      <th>5</th>\n",
       "      <td>True</td>\n",
       "      <td>False</td>\n",
       "      <td>5</td>\n",
       "      <td>88005</td>\n",
       "    </tr>\n",
       "    <tr>\n",
       "      <th>6</th>\n",
       "      <td>False</td>\n",
       "      <td>False</td>\n",
       "      <td>6</td>\n",
       "      <td>88005</td>\n",
       "    </tr>\n",
       "    <tr>\n",
       "      <th>7</th>\n",
       "      <td>False</td>\n",
       "      <td>False</td>\n",
       "      <td>7</td>\n",
       "      <td>88001</td>\n",
       "    </tr>\n",
       "    <tr>\n",
       "      <th>8</th>\n",
       "      <td>True</td>\n",
       "      <td>True</td>\n",
       "      <td>8</td>\n",
       "      <td>88005</td>\n",
       "    </tr>\n",
       "    <tr>\n",
       "      <th>9</th>\n",
       "      <td>True</td>\n",
       "      <td>True</td>\n",
       "      <td>9</td>\n",
       "      <td>88003</td>\n",
       "    </tr>\n",
       "  </tbody>\n",
       "</table>\n",
       "</div>"
      ],
      "text/plain": [
       "  Bought Green Tea Bought Organic  Customer ID  Zipcode\n",
       "0             True           True            0    88005\n",
       "1            False          False            1    88001\n",
       "2             True           True            2    88001\n",
       "3            False          False            3    88005\n",
       "4            False           True            4    88003\n",
       "5             True          False            5    88005\n",
       "6            False          False            6    88005\n",
       "7            False          False            7    88001\n",
       "8             True           True            8    88005\n",
       "9             True           True            9    88003"
      ]
     },
     "execution_count": 8,
     "metadata": {},
     "output_type": "execute_result"
    }
   ],
   "source": [
    "import pandas as pd\n",
    "\n",
    "customers = {   'Customer ID': range(10),\n",
    "                'Zipcode': [88005, 88001, 88001, 88005, 88003, 88005, 88005, 88001, 88005, 88003],\n",
    "                'Bought Organic': [True, False, True, False, True, False, False, False, True, True],\n",
    "                'Bought Green Tea': [True, False, True, False, False, True, False, False, True, True]}\n",
    "\n",
    "df = pd.DataFrame(customers)\n",
    "df"
   ]
  },
  {
   "cell_type": "markdown",
   "metadata": {},
   "source": [
    "## Probability someone who bought green tea lives in post code 88005\n",
    "P(D|H): P(88005 | green tea)"
   ]
  },
  {
   "cell_type": "code",
   "execution_count": 28,
   "metadata": {},
   "outputs": [
    {
     "data": {
      "text/html": [
       "<div>\n",
       "<table border=\"1\" class=\"dataframe\">\n",
       "  <thead>\n",
       "    <tr style=\"text-align: right;\">\n",
       "      <th></th>\n",
       "      <th>Bought Green Tea</th>\n",
       "      <th>Bought Organic</th>\n",
       "      <th>Customer ID</th>\n",
       "      <th>Zipcode</th>\n",
       "    </tr>\n",
       "  </thead>\n",
       "  <tbody>\n",
       "    <tr>\n",
       "      <th>0</th>\n",
       "      <td>True</td>\n",
       "      <td>True</td>\n",
       "      <td>0</td>\n",
       "      <td>88005</td>\n",
       "    </tr>\n",
       "    <tr>\n",
       "      <th>5</th>\n",
       "      <td>True</td>\n",
       "      <td>False</td>\n",
       "      <td>5</td>\n",
       "      <td>88005</td>\n",
       "    </tr>\n",
       "    <tr>\n",
       "      <th>8</th>\n",
       "      <td>True</td>\n",
       "      <td>True</td>\n",
       "      <td>8</td>\n",
       "      <td>88005</td>\n",
       "    </tr>\n",
       "  </tbody>\n",
       "</table>\n",
       "</div>"
      ],
      "text/plain": [
       "  Bought Green Tea Bought Organic  Customer ID  Zipcode\n",
       "0             True           True            0    88005\n",
       "5             True          False            5    88005\n",
       "8             True           True            8    88005"
      ]
     },
     "execution_count": 28,
     "metadata": {},
     "output_type": "execute_result"
    }
   ],
   "source": [
    "num_bought_green_tea = sum(df['Bought Green Tea'])\n",
    "bought_tea_zip = df[(df['Bought Green Tea']==True) & (df['Zipcode']==88005)]\n",
    "bought_tea_zip"
   ]
  },
  {
   "cell_type": "code",
   "execution_count": 29,
   "metadata": {},
   "outputs": [
    {
     "name": "stdout",
     "output_type": "stream",
     "text": [
      "3 / 5 = 0.6\n"
     ]
    }
   ],
   "source": [
    "num_bought_tea_and_live_88005 = len(bought_tea_zip['Zipcode'])\n",
    "\n",
    "print('{} / {} = {}'.format(num_bought_tea_and_live_88005, num_bought_green_tea, num_bought_tea_and_live_88005 / num_bought_green_tea))"
   ]
  },
  {
   "cell_type": "markdown",
   "metadata": {},
   "source": [
    "## Opposite: Probability someone who did NOT buy green tea lives in post code 88005\n",
    "P(D|H): P(88005 | !green tea)"
   ]
  },
  {
   "cell_type": "code",
   "execution_count": 30,
   "metadata": {},
   "outputs": [
    {
     "data": {
      "text/html": [
       "<div>\n",
       "<table border=\"1\" class=\"dataframe\">\n",
       "  <thead>\n",
       "    <tr style=\"text-align: right;\">\n",
       "      <th></th>\n",
       "      <th>Bought Green Tea</th>\n",
       "      <th>Bought Organic</th>\n",
       "      <th>Customer ID</th>\n",
       "      <th>Zipcode</th>\n",
       "    </tr>\n",
       "  </thead>\n",
       "  <tbody>\n",
       "    <tr>\n",
       "      <th>3</th>\n",
       "      <td>False</td>\n",
       "      <td>False</td>\n",
       "      <td>3</td>\n",
       "      <td>88005</td>\n",
       "    </tr>\n",
       "    <tr>\n",
       "      <th>6</th>\n",
       "      <td>False</td>\n",
       "      <td>False</td>\n",
       "      <td>6</td>\n",
       "      <td>88005</td>\n",
       "    </tr>\n",
       "  </tbody>\n",
       "</table>\n",
       "</div>"
      ],
      "text/plain": [
       "  Bought Green Tea Bought Organic  Customer ID  Zipcode\n",
       "3            False          False            3    88005\n",
       "6            False          False            6    88005"
      ]
     },
     "execution_count": 30,
     "metadata": {},
     "output_type": "execute_result"
    }
   ],
   "source": [
    "num_didnt_buy_green_tea = len(df['Bought Green Tea']) - sum(df['Bought Green Tea'])\n",
    "no_tea_zip = df[(df['Bought Green Tea']==False) & (df['Zipcode']==88005)]\n",
    "no_tea_zip"
   ]
  },
  {
   "cell_type": "code",
   "execution_count": 33,
   "metadata": {},
   "outputs": [
    {
     "name": "stdout",
     "output_type": "stream",
     "text": [
      "2 / 5 = 0.4\n"
     ]
    }
   ],
   "source": [
    "num_didnt_buy_tea_live_88005 = len(no_tea_zip['Zipcode'])\n",
    "print('{} / {} = {}'.format(num_didnt_buy_tea_live_88005, num_didnt_buy_green_tea, num_didnt_buy_tea_live_88005 / num_didnt_buy_green_tea))"
   ]
  },
  {
   "cell_type": "markdown",
   "metadata": {},
   "source": [
    "## Probability someone being in postcode 88001?"
   ]
  },
  {
   "cell_type": "code",
   "execution_count": 37,
   "metadata": {},
   "outputs": [
    {
     "data": {
      "text/html": [
       "<div>\n",
       "<table border=\"1\" class=\"dataframe\">\n",
       "  <thead>\n",
       "    <tr style=\"text-align: right;\">\n",
       "      <th></th>\n",
       "      <th>Bought Green Tea</th>\n",
       "      <th>Bought Organic</th>\n",
       "      <th>Customer ID</th>\n",
       "      <th>Zipcode</th>\n",
       "    </tr>\n",
       "  </thead>\n",
       "  <tbody>\n",
       "    <tr>\n",
       "      <th>1</th>\n",
       "      <td>False</td>\n",
       "      <td>False</td>\n",
       "      <td>1</td>\n",
       "      <td>88001</td>\n",
       "    </tr>\n",
       "    <tr>\n",
       "      <th>2</th>\n",
       "      <td>True</td>\n",
       "      <td>True</td>\n",
       "      <td>2</td>\n",
       "      <td>88001</td>\n",
       "    </tr>\n",
       "    <tr>\n",
       "      <th>7</th>\n",
       "      <td>False</td>\n",
       "      <td>False</td>\n",
       "      <td>7</td>\n",
       "      <td>88001</td>\n",
       "    </tr>\n",
       "  </tbody>\n",
       "</table>\n",
       "</div>"
      ],
      "text/plain": [
       "  Bought Green Tea Bought Organic  Customer ID  Zipcode\n",
       "1            False          False            1    88001\n",
       "2             True           True            2    88001\n",
       "7            False          False            7    88001"
      ]
     },
     "execution_count": 37,
     "metadata": {},
     "output_type": "execute_result"
    }
   ],
   "source": [
    "lives_88001 = df[df['Zipcode'] == 88001]\n",
    "lives_88001"
   ]
  },
  {
   "cell_type": "code",
   "execution_count": 43,
   "metadata": {},
   "outputs": [
    {
     "data": {
      "text/plain": [
       "0.3"
      ]
     },
     "execution_count": 43,
     "metadata": {},
     "output_type": "execute_result"
    }
   ],
   "source": [
    "p = len(lives_88001['Zipcode']) / len(df['Zipcode'])\n",
    "p"
   ]
  },
  {
   "cell_type": "markdown",
   "metadata": {},
   "source": [
    "# Bayes Theorem\n",
    "Describes relationship between P(h), P(h | D), P(D), amd P(D | h)\n",
    "\n",
    "$$\n",
    "P(h | D) = \\frac{P(D | h)P(h)}{P(D)}\n",
    "$$\n",
    "\n",
    "Can use this theorem to decide between multiple hypotheses. For example, if you're given some data you can use this to determine what sport someone plays.\n",
    "\n",
    "In the tea example, we have two hypotheses:\n",
    "1. They will buy green tea: P(buy tea | 88005)\n",
    "2. They will not buy green tea: P(-buy tea | 88005)\n",
    "\n",
    "Once we calculate the probability of 0.6 that they will buy green tea, we can say its likely they will make the purchase.\n",
    "\n",
    "## Electronics Store\n",
    "3 sales fliers to send in email, they can show:\n",
    "1. Laptop\n",
    "2. Desktop\n",
    "3. Tablet\n",
    "\n",
    "Using the information we have about the customer, we want ot send the flier that will be most likely to generate a sale. They hypotheses for which flier is best:  \n",
    "$P(laptop | D) = \\frac{P(D | laptop)P(laptop)}{P(D)}$  \n",
    "$P(desktop | D) = \\frac{P(D | desktop)P(desktop)}{P(D)}$  \n",
    "$P(tablet | D) = \\frac{P(D | tablet)P(tablet)}{P(D)}$\n",
    "\n",
    "We can refer to these hypotheses as h₁, h₂, h₃ etc and they tend to be the different classes we want to predict e.g. different sports, has disease, does not have disease etc. Once we've calculated all the probabilities, we can pick the hypotheses that is most likely - called **the maximum a posteriori hypothesis** or $h_{MAP}$.\n",
    "\n",
    "$$\n",
    "h_{MAP} = arg max_{h \\in H} P(h|D)\n",
    "$$\n",
    "\n",
    "H is the set of all hypotheses, so this works out for each hypothesis out of all the hypotheses, compute the probabilities and find the one with the highest. With bayes theorem, we convert this to:\n",
    "\n",
    "$$\n",
    "h_{MAP} = arg max_{h \\in H} \\frac{P(D|h)P(h)}\n",
    "{P(D)}\n",
    "$$\n",
    "\n",
    "P(D) is independent of the hypotheses. If you find the nominator before you divide by this denominator, you can compare the hypotheses to find the largest number - most likely.\n",
    "\n",
    "## Determine if patient has cancer or not\n",
    "- 0.8% of people have some form of cancer\n",
    "- T gives binary result: positive or negative\n",
    "- Cancer present - test returns true positive 98% of the time\n",
    "- Cancer abssent - test returns correct negative result 97% of the time\n",
    "\n",
    "Therefore I can work out:\n",
    "- P(cancer) = 0.008\n",
    "- P(-cancer) = 0.992\n",
    "- P(POS|cancer) = 0.98\n",
    "- P(NEG|cancer) = 0.02\n",
    "- P(POS|-cancer) = 0.03\n",
    "- P(NEG|-cancer) = 0.97\n",
    "\n",
    "If you have a blood test done and the test result is positive, is it more likely that you have cancer than you don't?\n",
    "- P(POS|cancer): 0.98 * P(cancer): 0.008 = 0.00784\n",
    "- P(POS|-cancer): 0.03 * P(cancer) = 0.0294\n",
    "\n",
    "Most likely to not have cancer, to determine how likely the person is to have cancer:\n",
    "\n",
    "$$\n",
    "P(cancer|POS) = \\frac{0.00784}{0.00784 + 0.0294} = 0.21\n",
    "$$\n",
    "\n",
    "There is a 21% chance of having cancer.\n",
    "\n",
    "## Why use Bayes Theorem?\n",
    "\n",
    "The example of the green tea and zipcode from earlier presented us with two hypotheses:\n",
    "- P(h₁|D) = P(buygreentea|8805)\n",
    "- P(h₂|D) = P(buygreentea|8805)\n",
    "\n",
    "Can rewrite as\n",
    "\n",
    "$$\n",
    "\\frac{P(8805 | buygreentea)P(buygreentea)}\n",
    "{8805}\n",
    "$$\n",
    "\n",
    "Since we can calculate it directly from data in the table, why use the equation? Because normally its hard to calculate P(h|D) directly.\n",
    "\n",
    "## Naïve Bayes\n",
    "Use more evidence than a single piece of data when calculating the probability with Bayes theorem. In the tea example, we have two types of evidence: zip code and whether a person has purchased organic items. To calculate the probability of a hypothesis, we multiply the individual probabilities.\n",
    "\n",
    "What is the probability that someone who lives in 8805 zipcode and bought organic items will buy green tea?  \n",
    "P(tea|8805 & organic) = 0"
   ]
  },
  {
   "cell_type": "code",
   "execution_count": null,
   "metadata": {},
   "outputs": [],
   "source": []
  }
 ],
 "metadata": {
  "kernelspec": {
   "display_name": "Python 3",
   "language": "python",
   "name": "python3"
  },
  "language_info": {
   "codemirror_mode": {
    "name": "ipython",
    "version": 3
   },
   "file_extension": ".py",
   "mimetype": "text/x-python",
   "name": "python",
   "nbconvert_exporter": "python",
   "pygments_lexer": "ipython3",
   "version": "3.5.2"
  }
 },
 "nbformat": 4,
 "nbformat_minor": 2
}
