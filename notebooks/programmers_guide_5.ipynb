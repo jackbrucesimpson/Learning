{
 "cells": [
  {
   "cell_type": "markdown",
   "metadata": {},
   "source": [
    "# Naïve Bayes\n",
    "Probabilistic classifiers can give you a prediction and a probability - something you can't get from nearest neighbour classifiers.\n",
    "\n",
    "## Lazy vs Eager Learners\n",
    "Lazy learners save a training set and have to remember it each time to use it while eager learners will generate a model that it can use to classify new data - this tends to be faster,\n",
    "\n",
    "## Probability\n",
    "Prior probability of a hypothesis: P(h). For a coin: P(heads) = 0.5. Rolling 1 with a die: P(1) = 1/6. Probability person is woman if even number of men and women: P(Female) = 0.5.\n",
    "\n",
    "If you research a uni (say Stanford) a person is at and realise that it is 86% female, you may change the probability of a random person there being female. You can denote this as P(Female | D) - probability of hypothesis h given data D:  P(Female | attends stanford) = 0.86. The formula is:\n",
    "\n",
    "$$\n",
    "P(A|B) = \\frac{P(A \\cap B)}\n",
    "{p(B)}\n",
    "$$"
   ]
  },
  {
   "cell_type": "code",
   "execution_count": null,
   "metadata": {},
   "outputs": [],
   "source": []
  }
 ],
 "metadata": {
  "kernelspec": {
   "display_name": "Python 3",
   "language": "python",
   "name": "python3"
  },
  "language_info": {
   "codemirror_mode": {
    "name": "ipython",
    "version": 3
   },
   "file_extension": ".py",
   "mimetype": "text/x-python",
   "name": "python",
   "nbconvert_exporter": "python",
   "pygments_lexer": "ipython3",
   "version": "3.5.2"
  }
 },
 "nbformat": 4,
 "nbformat_minor": 2
}
