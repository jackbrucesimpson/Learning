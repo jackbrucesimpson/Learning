{
 "cells": [
  {
   "cell_type": "markdown",
   "metadata": {},
   "source": [
    "# Implementing Regression\n",
    "Regression involves quantifying the relationship between x & y variables. You'll often want to visualise the data to determine if the variables are correlated.\n",
    "\n",
    "## Linear Equation\n",
    "- $y = mx+b$\n",
    "- y = predictive variable\n",
    "- x = x variable value\n",
    "- m = slope \n",
    "- b = y intercept\n",
    "\n",
    "## Best Fit Slope\n",
    "To identify the slope that best fits the data you multiply the mean of x by the mean of y, minus the mean of all x's times y's divided by the mean of x's squared minus the mean of x's squared minus the mean of x's squared.\n",
    "\n",
    "$$m = \\frac{\\bar{x} . \\bar{y} - \\overline{xy}}{(\\bar{x})^2-\\bar{x}^2}$$\n",
    "\n",
    "## Best Fit Y Intercept\n",
    "Intercept is the mean of the y's minus the slope multiplied by the mean of the x's\n",
    "\n",
    "$$b = \\bar{y} - m.\\bar{x}$$"
   ]
  },
  {
   "cell_type": "code",
   "execution_count": 2,
   "metadata": {
    "collapsed": true
   },
   "outputs": [],
   "source": [
    "from statistics import mean\n",
    "import numpy as np"
   ]
  },
  {
   "cell_type": "code",
   "execution_count": null,
   "metadata": {
    "collapsed": true
   },
   "outputs": [],
   "source": []
  }
 ],
 "metadata": {
  "kernelspec": {
   "display_name": "Python 3",
   "language": "python",
   "name": "python3"
  },
  "language_info": {
   "codemirror_mode": {
    "name": "ipython",
    "version": 3
   },
   "file_extension": ".py",
   "mimetype": "text/x-python",
   "name": "python",
   "nbconvert_exporter": "python",
   "pygments_lexer": "ipython3",
   "version": "3.5.2"
  }
 },
 "nbformat": 4,
 "nbformat_minor": 2
}
